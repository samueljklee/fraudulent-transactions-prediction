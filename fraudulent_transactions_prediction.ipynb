{
  "nbformat": 4,
  "nbformat_minor": 0,
  "metadata": {
    "colab": {
      "name": "fraudulent_transactions_prediction.ipynb",
      "provenance": [],
      "collapsed_sections": [],
      "toc_visible": true
    },
    "kernelspec": {
      "name": "python3",
      "display_name": "Python 3"
    }
  },
  "cells": [
    {
      "cell_type": "markdown",
      "metadata": {
        "id": "pnZWESBsXRcu",
        "colab_type": "text"
      },
      "source": [
        "# Fraudulent Transactions Prediction\n",
        "\n",
        "### Predict fraudlent transactions\n",
        "\n",
        "- import dependencies\n",
        "- import dataset\n",
        "- explore data and visualize\n",
        "- perform machine learning\n",
        "- test model on testing set"
      ]
    },
    {
      "cell_type": "code",
      "metadata": {
        "id": "_QazZtcYZdGa",
        "colab_type": "code",
        "colab": {}
      },
      "source": [
        "# Install Kaggle\n",
        "! pip install -q kaggle\n",
        "\n",
        "# import function to upload files (upload kaggle.json)\n",
        "from google.colab import files"
      ],
      "execution_count": 0,
      "outputs": []
    },
    {
      "cell_type": "code",
      "metadata": {
        "id": "gc1CWZP2bkXq",
        "colab_type": "code",
        "colab": {}
      },
      "source": [
        "files.upload()"
      ],
      "execution_count": 0,
      "outputs": []
    },
    {
      "cell_type": "code",
      "metadata": {
        "id": "hSJfH_7lZ_Sd",
        "colab_type": "code",
        "colab": {
          "base_uri": "https://localhost:8080/",
          "height": 34
        },
        "outputId": "c5240629-285a-4b64-c7b2-ed5b6e51f979"
      },
      "source": [
        "# Create directory for kaggle.json\n",
        "# Copy and Set permission\n",
        "! mkdir ~/.kaggle\n",
        "! cp kaggle.json ~/.kaggle/\n",
        "! chmod 600 ~/.kaggle/kaggle.json\n",
        "%mkdir train\n",
        "%mkdir test"
      ],
      "execution_count": 5,
      "outputs": [
        {
          "output_type": "stream",
          "text": [
            "mkdir: cannot create directory ‘/root/.kaggle’: File exists\n"
          ],
          "name": "stdout"
        }
      ]
    },
    {
      "cell_type": "code",
      "metadata": {
        "id": "vnyvZHzGaYY-",
        "colab_type": "code",
        "colab": {
          "base_uri": "https://localhost:8080/",
          "height": 289
        },
        "outputId": "d6748e59-d708-4aab-c0b8-7a75b92494a9"
      },
      "source": [
        "! kaggle competitions download -c ieee-fraud-detection"
      ],
      "execution_count": 6,
      "outputs": [
        {
          "output_type": "stream",
          "text": [
            "Warning: Looks like you're using an outdated API Version, please consider updating (server 1.5.6 / client 1.5.4)\n",
            "Downloading train_transaction.csv.zip to /content\n",
            " 88% 46.0M/52.5M [00:00<00:00, 67.6MB/s]\n",
            "100% 52.5M/52.5M [00:00<00:00, 107MB/s] \n",
            "Downloading train_identity.csv.zip to /content\n",
            "  0% 0.00/3.02M [00:00<?, ?B/s]\n",
            "100% 3.02M/3.02M [00:00<00:00, 98.6MB/s]\n",
            "Downloading test_transaction.csv.zip to /content\n",
            " 85% 40.0M/47.3M [00:00<00:00, 79.2MB/s]\n",
            "100% 47.3M/47.3M [00:00<00:00, 136MB/s] \n",
            "Downloading test_identity.csv.zip to /content\n",
            "  0% 0.00/2.97M [00:00<?, ?B/s]\n",
            "100% 2.97M/2.97M [00:00<00:00, 97.9MB/s]\n",
            "Downloading sample_submission.csv.zip to /content\n",
            "  0% 0.00/1.14M [00:00<?, ?B/s]\n",
            "100% 1.14M/1.14M [00:00<00:00, 160MB/s]\n"
          ],
          "name": "stdout"
        }
      ]
    },
    {
      "cell_type": "code",
      "metadata": {
        "id": "lIJ1sgjBagvl",
        "colab_type": "code",
        "colab": {
          "base_uri": "https://localhost:8080/",
          "height": 153
        },
        "outputId": "79a0a532-015f-4bc6-e7d3-08744d785056"
      },
      "source": [
        "! unzip train_transaction.csv.zip -d train\n",
        "! unzip train_identity.csv.zip -d train\n",
        "! unzip test_transaction.csv.zip -d test\n",
        "! unzip test_identity.csv.zip -d test"
      ],
      "execution_count": 7,
      "outputs": [
        {
          "output_type": "stream",
          "text": [
            "Archive:  train_transaction.csv.zip\n",
            "  inflating: train/train_transaction.csv  \n",
            "Archive:  train_identity.csv.zip\n",
            "  inflating: train/train_identity.csv  \n",
            "Archive:  test_transaction.csv.zip\n",
            "  inflating: test/test_transaction.csv  \n",
            "Archive:  test_identity.csv.zip\n",
            "  inflating: test/test_identity.csv  \n"
          ],
          "name": "stdout"
        }
      ]
    },
    {
      "cell_type": "code",
      "metadata": {
        "id": "mJYt56NBXYI2",
        "colab_type": "code",
        "colab": {}
      },
      "source": [
        "import random\n",
        "from typing import List\n",
        "import numpy as np\n",
        "import pandas as pd\n",
        "import sklearn as sk\n",
        "import seaborn as sns\n",
        "import matplotlib.pyplot as plt\n",
        "from sklearn.preprocessing import scale\n",
        "\n",
        "# Machine Learning\n",
        "from sklearn import linear_model\n",
        "from sklearn.model_selection import train_test_split"
      ],
      "execution_count": 0,
      "outputs": []
    },
    {
      "cell_type": "code",
      "metadata": {
        "id": "uSzqrldrhgGs",
        "colab_type": "code",
        "colab": {}
      },
      "source": [
        "transaction_features = ['TransactionID', 'isFraud', 'TransactionAmt', 'P_emaildomain', 'R_emaildomain']\n",
        "identity_features = ['TransactionID', 'DeviceType']\n",
        "train_files = ['train/train_transaction.csv', 'train/train_identity.csv']\n",
        "test_files = ['test/test_transaction.csv', 'test/test_identity.csv']"
      ],
      "execution_count": 0,
      "outputs": []
    },
    {
      "cell_type": "code",
      "metadata": {
        "id": "nhkfToBPXspu",
        "colab_type": "code",
        "colab": {}
      },
      "source": [
        "def get_transaction_dataframe(file_name: str, transaction_features: List[str]) -> \"DataFrame\":\n",
        "    df = pd.read_csv(file_name, usecols=transaction_features, low_memory=False)\n",
        "    df = df.sample(frac=1).reset_index(drop=True)\n",
        "    return df"
      ],
      "execution_count": 0,
      "outputs": []
    },
    {
      "cell_type": "code",
      "metadata": {
        "id": "ZJ1H4MXDc2-8",
        "colab_type": "code",
        "colab": {}
      },
      "source": [
        "def get_identity_dataframe(file_name: str, identity_features: List[str]) -> \"DataFrame\":\n",
        "    df = pd.read_csv(file_name, usecols=identity_features, low_memory=False)\n",
        "    df = df.sample(frac=1).reset_index(drop=True)\n",
        "    return df"
      ],
      "execution_count": 0,
      "outputs": []
    },
    {
      "cell_type": "code",
      "metadata": {
        "id": "lxuV9M3UhAaQ",
        "colab_type": "code",
        "colab": {
          "base_uri": "https://localhost:8080/",
          "height": 204
        },
        "outputId": "d9b81d29-151d-4a80-ceb6-adff5e8f6d38"
      },
      "source": [
        "# Merging 2 datasource for training data\n",
        "df_train_transaction = get_transaction_dataframe(train_files[0], transaction_features)\n",
        "df_train_identity = get_identity_dataframe(train_files[1], identity_features)\n",
        "df_full = pd.merge(df_train_transaction, df_train_identity, on='TransactionID', how='inner')\n",
        "df_full.head()"
      ],
      "execution_count": 9,
      "outputs": [
        {
          "output_type": "execute_result",
          "data": {
            "text/html": [
              "<div>\n",
              "<style scoped>\n",
              "    .dataframe tbody tr th:only-of-type {\n",
              "        vertical-align: middle;\n",
              "    }\n",
              "\n",
              "    .dataframe tbody tr th {\n",
              "        vertical-align: top;\n",
              "    }\n",
              "\n",
              "    .dataframe thead th {\n",
              "        text-align: right;\n",
              "    }\n",
              "</style>\n",
              "<table border=\"1\" class=\"dataframe\">\n",
              "  <thead>\n",
              "    <tr style=\"text-align: right;\">\n",
              "      <th></th>\n",
              "      <th>TransactionID</th>\n",
              "      <th>isFraud</th>\n",
              "      <th>TransactionAmt</th>\n",
              "      <th>P_emaildomain</th>\n",
              "      <th>R_emaildomain</th>\n",
              "      <th>DeviceType</th>\n",
              "    </tr>\n",
              "  </thead>\n",
              "  <tbody>\n",
              "    <tr>\n",
              "      <th>0</th>\n",
              "      <td>3085705</td>\n",
              "      <td>0</td>\n",
              "      <td>25.000</td>\n",
              "      <td>gmail.com</td>\n",
              "      <td>gmail.com</td>\n",
              "      <td>mobile</td>\n",
              "    </tr>\n",
              "    <tr>\n",
              "      <th>1</th>\n",
              "      <td>3064029</td>\n",
              "      <td>0</td>\n",
              "      <td>450.000</td>\n",
              "      <td>anonymous.com</td>\n",
              "      <td>aol.com</td>\n",
              "      <td>desktop</td>\n",
              "    </tr>\n",
              "    <tr>\n",
              "      <th>2</th>\n",
              "      <td>3461156</td>\n",
              "      <td>0</td>\n",
              "      <td>28.158</td>\n",
              "      <td>gmail.com</td>\n",
              "      <td>gmail.com</td>\n",
              "      <td>desktop</td>\n",
              "    </tr>\n",
              "    <tr>\n",
              "      <th>3</th>\n",
              "      <td>3158592</td>\n",
              "      <td>1</td>\n",
              "      <td>125.000</td>\n",
              "      <td>gmail.com</td>\n",
              "      <td>gmail.com</td>\n",
              "      <td>mobile</td>\n",
              "    </tr>\n",
              "    <tr>\n",
              "      <th>4</th>\n",
              "      <td>3330243</td>\n",
              "      <td>0</td>\n",
              "      <td>15.000</td>\n",
              "      <td>NaN</td>\n",
              "      <td>anonymous.com</td>\n",
              "      <td>desktop</td>\n",
              "    </tr>\n",
              "  </tbody>\n",
              "</table>\n",
              "</div>"
            ],
            "text/plain": [
              "   TransactionID  isFraud  ...  R_emaildomain DeviceType\n",
              "0        3085705        0  ...      gmail.com     mobile\n",
              "1        3064029        0  ...        aol.com    desktop\n",
              "2        3461156        0  ...      gmail.com    desktop\n",
              "3        3158592        1  ...      gmail.com     mobile\n",
              "4        3330243        0  ...  anonymous.com    desktop\n",
              "\n",
              "[5 rows x 6 columns]"
            ]
          },
          "metadata": {
            "tags": []
          },
          "execution_count": 9
        }
      ]
    },
    {
      "cell_type": "code",
      "metadata": {
        "id": "aTCqDafwyj06",
        "colab_type": "code",
        "colab": {
          "base_uri": "https://localhost:8080/",
          "height": 283
        },
        "outputId": "760d0bd8-741a-4aa1-80c1-ae8272d96f47"
      },
      "source": [
        "frauds = df_full.loc[df_full['isFraud'] == 1]\n",
        "non_frauds = df_full.loc[df_full['isFraud'] == 0]\n",
        "ax = frauds.plot.scatter(x='TransactionAmt', y='isFraud', color='Orange', label='Fraud')\n",
        "non_frauds.plot.scatter(x='TransactionAmt', y='isFraud', color='Blue', label='Normal', ax=ax)\n",
        "\n",
        "plt.show()"
      ],
      "execution_count": 12,
      "outputs": [
        {
          "output_type": "display_data",
          "data": {
            "image/png": "[encoded data removed]",
            "text/plain": [
              "<Figure size 432x288 with 1 Axes>"
            ]
          },
          "metadata": {
            "tags": []
          }
        }
      ]
    },
    {
      "cell_type": "code",
      "metadata": {
        "id": "tkMCb1pHmv-F",
        "colab_type": "code",
        "colab": {
          "base_uri": "https://localhost:8080/",
          "height": 488
        },
        "outputId": "7729afc2-c7aa-4665-a01b-00a61b32168b"
      },
      "source": [
        "sns.countplot(x='P_emaildomain', data=df_full)\n",
        "df_full[['P_emaildomain']].groupby(['P_emaildomain'])['P_emaildomain'].count().nlargest(10)"
      ],
      "execution_count": 13,
      "outputs": [
        {
          "output_type": "execute_result",
          "data": {
            "text/plain": [
              "P_emaildomain\n",
              "gmail.com        54140\n",
              "hotmail.com      25782\n",
              "anonymous.com    17840\n",
              "yahoo.com        11667\n",
              "aol.com           4306\n",
              "outlook.com       2346\n",
              "comcast.net       2196\n",
              "yahoo.com.mx      1182\n",
              "msn.com           1069\n",
              "icloud.com        1022\n",
              "Name: P_emaildomain, dtype: int64"
            ]
          },
          "metadata": {
            "tags": []
          },
          "execution_count": 13
        },
        {
          "output_type": "display_data",
          "data": {
            "image/png": "[encoded data removed]",
            "text/plain": [
              "<Figure size 432x288 with 1 Axes>"
            ]
          },
          "metadata": {
            "tags": []
          }
        }
      ]
    },
    {
      "cell_type": "code",
      "metadata": {
        "id": "Wvc7-C4Htd85",
        "colab_type": "code",
        "colab": {
          "base_uri": "https://localhost:8080/",
          "height": 302
        },
        "outputId": "540ecae1-db47-4e51-ce1c-8a26590fbaa3"
      },
      "source": [
        "r_email_domain_to_is_fraud = df_full[['R_emaildomain','isFraud']].groupby(['R_emaildomain'], as_index=False).mean().sort_values(by='isFraud', ascending=False)\n",
        "sns.barplot(x=\"R_emaildomain\", y=\"isFraud\", data=r_email_domain_to_is_fraud)"
      ],
      "execution_count": 14,
      "outputs": [
        {
          "output_type": "execute_result",
          "data": {
            "text/plain": [
              "<matplotlib.axes._subplots.AxesSubplot at 0x7f971fa31e80>"
            ]
          },
          "metadata": {
            "tags": []
          },
          "execution_count": 14
        },
        {
          "output_type": "display_data",
          "data": {
            "image/png": "[encoded data removed]",
            "text/plain": [
              "<Figure size 432x288 with 1 Axes>"
            ]
          },
          "metadata": {
            "tags": []
          }
        }
      ]
    },
    {
      "cell_type": "code",
      "metadata": {
        "id": "35fuwQNNorT4",
        "colab_type": "code",
        "colab": {
          "base_uri": "https://localhost:8080/",
          "height": 1000
        },
        "outputId": "90954f00-cd85-43ba-e3ec-b23c26fb157e"
      },
      "source": [
        "# R consist of all email domains in P\n",
        "r_email_domain_mapping = {}\n",
        "r_email_domain_to_is_fraud = df_full[['R_emaildomain','isFraud']].groupby(['R_emaildomain'], as_index=False).mean().sort_values(by='isFraud', ascending=False)\n",
        "r_emaildomain_isfraud_map = dict(zip(r_email_domain_to_is_fraud['R_emaildomain'], r_email_domain_to_is_fraud['isFraud']))\n",
        "r_emaildomain_isfraud_map[np.nan] = 0\n",
        "r_emaildomain_isfraud_map"
      ],
      "execution_count": 15,
      "outputs": [
        {
          "output_type": "execute_result",
          "data": {
            "text/plain": [
              "{'aim.com': 0.027777777777777776,\n",
              " 'anonymous.com': 0.029136001613065832,\n",
              " 'aol.com': 0.03488689016080676,\n",
              " 'att.net': 0.0,\n",
              " 'bellsouth.net': 0.00477326968973747,\n",
              " 'cableone.net': 0.0,\n",
              " 'centurylink.net': 0.0,\n",
              " 'cfl.rr.com': 0.0,\n",
              " 'charter.net': 0.03968253968253968,\n",
              " 'comcast.net': 0.011602209944751382,\n",
              " 'cox.net': 0.024070021881838075,\n",
              " 'earthlink.net': 0.0759493670886076,\n",
              " 'embarqmail.com': 0.0,\n",
              " 'frontier.com': 0.0,\n",
              " 'frontiernet.net': 0.0,\n",
              " 'gmail': 0.0,\n",
              " 'gmail.com': 0.1203362443036366,\n",
              " 'gmx.de': 0.0,\n",
              " 'hotmail.co.uk': 0.0,\n",
              " 'hotmail.com': 0.08156821996642954,\n",
              " 'hotmail.de': 0.0,\n",
              " 'hotmail.es': 0.06273062730627306,\n",
              " 'hotmail.fr': 0.0,\n",
              " 'icloud.com': 0.13018181818181818,\n",
              " 'juno.com': 0.0,\n",
              " 'live.com': 0.051075268817204304,\n",
              " 'live.com.mx': 0.05606060606060606,\n",
              " 'live.fr': 0.0,\n",
              " 'mac.com': 0.009302325581395349,\n",
              " 'mail.com': 0.38016528925619836,\n",
              " 'me.com': 0.020257826887661142,\n",
              " 'msn.com': 0.0011904761904761906,\n",
              " nan: 0,\n",
              " 'netzero.com': 0.0,\n",
              " 'netzero.net': 0.2222222222222222,\n",
              " 'optonline.net': 0.010752688172043012,\n",
              " 'outlook.com': 0.16930116472545756,\n",
              " 'outlook.es': 0.14105793450881612,\n",
              " 'prodigy.net.mx': 0.006060606060606061,\n",
              " 'protonmail.com': 0.9512195121951219,\n",
              " 'ptd.net': 0.0,\n",
              " 'q.com': 0.0,\n",
              " 'roadrunner.com': 0.0,\n",
              " 'rocketmail.com': 0.043478260869565216,\n",
              " 'sbcglobal.net': 0.0018148820326678765,\n",
              " 'sc.rr.com': 0.0,\n",
              " 'scranton.edu': 0.0,\n",
              " 'servicios-ta.com': 0.0,\n",
              " 'suddenlink.net': 0.041666666666666664,\n",
              " 'twc.com': 0.0,\n",
              " 'verizon.net': 0.0,\n",
              " 'web.de': 0.0,\n",
              " 'windstream.net': 0.0,\n",
              " 'yahoo.co.jp': 0.0,\n",
              " 'yahoo.co.uk': 0.0,\n",
              " 'yahoo.com': 0.05143838557320739,\n",
              " 'yahoo.com.mx': 0.006756756756756757,\n",
              " 'yahoo.de': 0.0,\n",
              " 'yahoo.es': 0.0392156862745098,\n",
              " 'yahoo.fr': 0.03676470588235294,\n",
              " 'ymail.com': 0.039603960396039604}"
            ]
          },
          "metadata": {
            "tags": []
          },
          "execution_count": 15
        }
      ]
    },
    {
      "cell_type": "code",
      "metadata": {
        "id": "BfH-Qo0dmftA",
        "colab_type": "code",
        "colab": {
          "base_uri": "https://localhost:8080/",
          "height": 204
        },
        "outputId": "d73ed218-198f-4577-89e0-e4b3d223c5ae"
      },
      "source": [
        "# Data cleaning\n",
        "device_mapping = {'desktop': 2, 'mobile': 1, np.nan: 0}\n",
        "df_full['DeviceType'] = df_full['DeviceType'].map(device_mapping)\n",
        "df_full['P_emaildomain'] = df_full['P_emaildomain'].map(r_emaildomain_isfraud_map)\n",
        "df_full['R_emaildomain'] = df_full['R_emaildomain'].map(r_emaildomain_isfraud_map)\n",
        "df_full.head()"
      ],
      "execution_count": 16,
      "outputs": [
        {
          "output_type": "execute_result",
          "data": {
            "text/html": [
              "<div>\n",
              "<style scoped>\n",
              "    .dataframe tbody tr th:only-of-type {\n",
              "        vertical-align: middle;\n",
              "    }\n",
              "\n",
              "    .dataframe tbody tr th {\n",
              "        vertical-align: top;\n",
              "    }\n",
              "\n",
              "    .dataframe thead th {\n",
              "        text-align: right;\n",
              "    }\n",
              "</style>\n",
              "<table border=\"1\" class=\"dataframe\">\n",
              "  <thead>\n",
              "    <tr style=\"text-align: right;\">\n",
              "      <th></th>\n",
              "      <th>TransactionID</th>\n",
              "      <th>isFraud</th>\n",
              "      <th>TransactionAmt</th>\n",
              "      <th>P_emaildomain</th>\n",
              "      <th>R_emaildomain</th>\n",
              "      <th>DeviceType</th>\n",
              "    </tr>\n",
              "  </thead>\n",
              "  <tbody>\n",
              "    <tr>\n",
              "      <th>0</th>\n",
              "      <td>3085705</td>\n",
              "      <td>0</td>\n",
              "      <td>25.000</td>\n",
              "      <td>0.120336</td>\n",
              "      <td>0.120336</td>\n",
              "      <td>1</td>\n",
              "    </tr>\n",
              "    <tr>\n",
              "      <th>1</th>\n",
              "      <td>3064029</td>\n",
              "      <td>0</td>\n",
              "      <td>450.000</td>\n",
              "      <td>0.029136</td>\n",
              "      <td>0.034887</td>\n",
              "      <td>2</td>\n",
              "    </tr>\n",
              "    <tr>\n",
              "      <th>2</th>\n",
              "      <td>3461156</td>\n",
              "      <td>0</td>\n",
              "      <td>28.158</td>\n",
              "      <td>0.120336</td>\n",
              "      <td>0.120336</td>\n",
              "      <td>2</td>\n",
              "    </tr>\n",
              "    <tr>\n",
              "      <th>3</th>\n",
              "      <td>3158592</td>\n",
              "      <td>1</td>\n",
              "      <td>125.000</td>\n",
              "      <td>0.120336</td>\n",
              "      <td>0.120336</td>\n",
              "      <td>1</td>\n",
              "    </tr>\n",
              "    <tr>\n",
              "      <th>4</th>\n",
              "      <td>3330243</td>\n",
              "      <td>0</td>\n",
              "      <td>15.000</td>\n",
              "      <td>0.000000</td>\n",
              "      <td>0.029136</td>\n",
              "      <td>2</td>\n",
              "    </tr>\n",
              "  </tbody>\n",
              "</table>\n",
              "</div>"
            ],
            "text/plain": [
              "   TransactionID  isFraud  ...  R_emaildomain  DeviceType\n",
              "0        3085705        0  ...       0.120336           1\n",
              "1        3064029        0  ...       0.034887           2\n",
              "2        3461156        0  ...       0.120336           2\n",
              "3        3158592        1  ...       0.120336           1\n",
              "4        3330243        0  ...       0.029136           2\n",
              "\n",
              "[5 rows x 6 columns]"
            ]
          },
          "metadata": {
            "tags": []
          },
          "execution_count": 16
        }
      ]
    },
    {
      "cell_type": "code",
      "metadata": {
        "id": "bL7l5J-wvUee",
        "colab_type": "code",
        "colab": {
          "base_uri": "https://localhost:8080/",
          "height": 34
        },
        "outputId": "d6b4e513-04f9-4210-abbe-bcf923c9e9d5"
      },
      "source": [
        "x = df_full.drop(columns=['isFraud'])\n",
        "y = df_full['isFraud']\n",
        "X_train, X_test, Y_train, Y_test = train_test_split(x, y, test_size=0.3)\n",
        "len(X_train), len(X_test), len(Y_train), len(Y_test)"
      ],
      "execution_count": 17,
      "outputs": [
        {
          "output_type": "execute_result",
          "data": {
            "text/plain": [
              "(100963, 43270, 100963, 43270)"
            ]
          },
          "metadata": {
            "tags": []
          },
          "execution_count": 17
        }
      ]
    },
    {
      "cell_type": "code",
      "metadata": {
        "id": "1BXEmymNvlqw",
        "colab_type": "code",
        "colab": {
          "base_uri": "https://localhost:8080/",
          "height": 323
        },
        "outputId": "b3410657-023a-4c6c-eb93-4a7796afe46b"
      },
      "source": [
        "X_train.head(), X_test.head(), Y_train.head()"
      ],
      "execution_count": 18,
      "outputs": [
        {
          "output_type": "execute_result",
          "data": {
            "text/plain": [
              "(        TransactionID  TransactionAmt  P_emaildomain  R_emaildomain  DeviceType\n",
              " 47579         3377207          40.602       0.120336       0.120336           1\n",
              " 102952        3383546         122.169       0.120336       0.120336           2\n",
              " 45904         3577418         150.000       0.051438       0.120336           1\n",
              " 85994         3009134         400.000       0.029136       0.029136           2\n",
              " 106665        3040000          25.000       0.029136       0.120336           0,\n",
              "         TransactionID  TransactionAmt  P_emaildomain  R_emaildomain  DeviceType\n",
              " 39265         3084692           100.0       0.051438       0.081568           1\n",
              " 64382         3199693           200.0       0.000000       0.051438           2\n",
              " 93727         3331373            50.0       0.120336       0.130182           1\n",
              " 34521         3105955           100.0       0.120336       0.029136           2\n",
              " 103308        3106655           200.0       0.029136       0.029136           1,\n",
              " 47579     0\n",
              " 102952    0\n",
              " 45904     0\n",
              " 85994     0\n",
              " 106665    0\n",
              " Name: isFraud, dtype: int64)"
            ]
          },
          "metadata": {
            "tags": []
          },
          "execution_count": 18
        }
      ]
    },
    {
      "cell_type": "code",
      "metadata": {
        "id": "AWaR0TFVYQQe",
        "colab_type": "code",
        "colab": {
          "base_uri": "https://localhost:8080/",
          "height": 88
        },
        "outputId": "08d7abb3-ae5f-46d2-e08d-3c5c10082758"
      },
      "source": [
        "log_reg = linear_model.LogisticRegression(C=1e5) # C -> Regulate against overfitting\n",
        "log_reg.fit(X_train, Y_train)\n",
        "print(\"Score: \", log_reg.score(X_test, Y_test))"
      ],
      "execution_count": 19,
      "outputs": [
        {
          "output_type": "stream",
          "text": [
            "/usr/local/lib/python3.6/dist-packages/sklearn/linear_model/logistic.py:432: FutureWarning: Default solver will be changed to 'lbfgs' in 0.22. Specify a solver to silence this warning.\n",
            "  FutureWarning)\n"
          ],
          "name": "stderr"
        },
        {
          "output_type": "stream",
          "text": [
            "Score:  0.9222787150450659\n"
          ],
          "name": "stdout"
        }
      ]
    },
    {
      "cell_type": "code",
      "metadata": {
        "id": "DZdSBVEAwcKX",
        "colab_type": "code",
        "colab": {}
      },
      "source": [
        "# For submission in Kaggle\n",
        "\n",
        "test_transaction_features = ['TransactionID', 'TransactionAmt', 'P_emaildomain', 'R_emaildomain']\n",
        "# Repeat process for Testing Data\n",
        "df_test_transaction = get_transaction_dataframe(test_files[0], test_transaction_features)\n",
        "df_test_identity = get_identity_dataframe(test_files[1], identity_features)\n",
        "df_test_full = pd.merge(df_test_transaction, df_test_identity, on='TransactionID', how='outer')\n",
        "\n",
        "# Data cleaning\n",
        "device_mapping = {'desktop': 2, 'mobile': 1, np.nan: 0}\n",
        "df_test_full['DeviceType'] = df_test_full['DeviceType'].map(device_mapping)\n",
        "df_test_full['P_emaildomain'] = df_test_full['P_emaildomain'].map(r_emaildomain_isfraud_map)\n",
        "df_test_full['R_emaildomain'] = df_test_full['R_emaildomain'].map(r_emaildomain_isfraud_map)\n",
        "df_test_full.head()\n",
        "\n",
        "submission_X_test = df_test_full.loc[:, :]\n",
        "Y_pred = np.array(log_reg.predict(submission_X_test))\n",
        "\n",
        "\n",
        "output = pd.DataFrame({'TransactionID': submission_X_test.TransactionID,\n",
        "                       'isFraud': Y_pred})\n",
        "output.to_csv('submission.csv', index=False)"
      ],
      "execution_count": 0,
      "outputs": []
    },
    {
      "cell_type": "code",
      "metadata": {
        "id": "Mi5VcRENzpf0",
        "colab_type": "code",
        "colab": {
          "base_uri": "https://localhost:8080/",
          "height": 34
        },
        "outputId": "90a61e45-6d17-4068-e9b9-a623146a0a58"
      },
      "source": [
        "len(Y_pred)"
      ],
      "execution_count": 22,
      "outputs": [
        {
          "output_type": "execute_result",
          "data": {
            "text/plain": [
              "506691"
            ]
          },
          "metadata": {
            "tags": []
          },
          "execution_count": 22
        }
      ]
    }
  ]
}